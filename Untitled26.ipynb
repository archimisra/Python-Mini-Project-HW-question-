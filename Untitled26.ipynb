{
  "nbformat": 4,
  "nbformat_minor": 0,
  "metadata": {
    "colab": {
      "provenance": [],
      "authorship_tag": "ABX9TyO+ldzwsgJGa+IJ+o0mL0Tx",
      "include_colab_link": true
    },
    "kernelspec": {
      "name": "python3",
      "display_name": "Python 3"
    },
    "language_info": {
      "name": "python"
    }
  },
  "cells": [
    {
      "cell_type": "markdown",
      "metadata": {
        "id": "view-in-github",
        "colab_type": "text"
      },
      "source": [
        "<a href=\"https://colab.research.google.com/github/archimisra/Python-Mini-Project-HW-question-/blob/main/Untitled26.ipynb\" target=\"_parent\"><img src=\"https://colab.research.google.com/assets/colab-badge.svg\" alt=\"Open In Colab\"/></a>"
      ]
    },
    {
      "cell_type": "code",
      "execution_count": 1,
      "metadata": {
        "colab": {
          "base_uri": "https://localhost:8080/"
        },
        "id": "dEXR0v_MnHQp",
        "outputId": "046557ed-4bf9-4e0d-b651-7224c7f4913e"
      },
      "outputs": [
        {
          "output_type": "stream",
          "name": "stdout",
          "text": [
            "Multi-Project Employees: {'E2', 'E4'}\n",
            "Single-Project Employees: {'E3', 'E1', 'E5', 'E6'}\n"
          ]
        }
      ],
      "source": [
        "# === Simple Employee Project Classifier ===\n",
        "\n",
        "# Step 1: Define employee sets for each project\n",
        "project_A = {\"E1\", \"E2\", \"E3\", \"E4\"}\n",
        "project_B = {\"E2\", \"E4\", \"E5\"}\n",
        "project_C = {\"E4\", \"E6\", \"E2\"}\n",
        "\n",
        "# Step 2: Find employees common across all projects\n",
        "common_all = project_A & project_B & project_C\n",
        "\n",
        "# Step 3: Find employees in more than one project\n",
        "multi_project = (project_A & project_B) | (project_B & project_C) | (project_C & project_A)\n",
        "\n",
        "# Step 4: Find employees in only one project\n",
        "all_employees = project_A | project_B | project_C\n",
        "single_project = all_employees - multi_project\n",
        "\n",
        "# Step 5: Store results in a dictionary with frozen keys\n",
        "summary = {\n",
        "    frozenset(common_all): \"Common Across All Projects\",\n",
        "    frozenset(multi_project): \"Multi-Project Employees\",\n",
        "    frozenset(single_project): \"Single-Project Employees\"\n",
        "}\n",
        "\n",
        "# Step 6: Print results\n",
        "for key, label in summary.items():\n",
        "    print(f\"{label}: {set(key)}\")\n"
      ]
    }
  ]
}